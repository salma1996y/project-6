{
 "cells": [
  {
   "cell_type": "markdown",
   "metadata": {
    "colab_type": "text",
    "id": "QTgq-IqfEiPT"
   },
   "source": [
    "<div style=\"direction:rtl; text-align:right\">\n",
    "\n",
    "# المشروع السادس: هل تستطيع تصنيف النصوص؟"
   ]
  },
  {
   "cell_type": "markdown",
   "metadata": {
    "colab_type": "text",
    "id": "sTvpwwE4EiPV"
   },
   "source": [
    "<div style=\"direction:rtl; text-align:right\">\n",
    "أهلاً بكم في المشروع السادس من علم البيانات. في هذا المشروع، سنقوم معاً بالنظر إلى بيانات فريدة من نوعها وهي مجموعة من النصوص المصنفة إلى مجالات مختلفة. سنقوم بنمذجة هذه البيانات لتوقع تصنيف النصوص بناء على الكلمات الواردة. تستطيع قراءة المزيد عن البيانات من خلال موقع سايكت-ليرن:"
   ]
  },
  {
   "cell_type": "markdown",
   "metadata": {
    "colab_type": "text",
    "id": "WY8p1tTnEiPX"
   },
   "source": [
    "- https://scikit-learn.org/0.19/datasets/twenty_newsgroups.html"
   ]
  },
  {
   "cell_type": "markdown",
   "metadata": {
    "colab_type": "text",
    "id": "C_7boLBGEiPZ"
   },
   "source": [
    "<div style=\"direction:rtl; text-align:right\">\n",
    "ملاحظة: عليك تعديل الخانات التي يوجد فيها الكود أدناه قبل تسليم المشروع. جميع الخانات الأخرى يجب ان تبقى كما هي بدون أي \n",
    "تعديل.\n",
    "\n",
    "```\n",
    "############################\n",
    "# عليك تعديل هذه الخانة قبل تسليم المشروع\n",
    "# YOU HAVE TO EDIT THIS CELLL\n",
    "############################\n",
    "```"
   ]
  },
  {
   "cell_type": "code",
   "execution_count": 1,
   "metadata": {
    "colab": {},
    "colab_type": "code",
    "id": "mNvvXHoREiPa"
   },
   "outputs": [],
   "source": [
    "import numpy as np\n",
    "import pandas as pd\n",
    "import matplotlib.pyplot as plt\n",
    "import seaborn as sns\n",
    "%matplotlib inline"
   ]
  },
  {
   "cell_type": "markdown",
   "metadata": {
    "colab_type": "text",
    "id": "3P12Z3i2EiPg"
   },
   "source": [
    "<div style=\"direction:rtl; text-align:right\">\n",
    "\n",
    "# قراءة البيانات"
   ]
  },
  {
   "cell_type": "code",
   "execution_count": 2,
   "metadata": {
    "colab": {},
    "colab_type": "code",
    "id": "cWa8IRjhEiPh"
   },
   "outputs": [],
   "source": [
    "from sklearn.datasets import fetch_20newsgroups"
   ]
  },
  {
   "cell_type": "code",
   "execution_count": 3,
   "metadata": {
    "colab": {},
    "colab_type": "code",
    "id": "6rrlx1UKEiPp"
   },
   "outputs": [],
   "source": [
    "newsgroups_data = fetch_20newsgroups(subset='train')"
   ]
  },
  {
   "cell_type": "code",
   "execution_count": 4,
   "metadata": {
    "colab": {},
    "colab_type": "code",
    "id": "19RcBVzmEiPz"
   },
   "outputs": [],
   "source": [
    "X = newsgroups_data['data']\n",
    "y = newsgroups_data['target']"
   ]
  },
  {
   "cell_type": "markdown",
   "metadata": {
    "colab_type": "text",
    "id": "zpWlQk-EEiP3"
   },
   "source": [
    "<div style=\"direction:rtl; text-align:right\">\n",
    "لاحظ أن X هنا عبارة عن قائمة بالنصوص، وليست جدول كما هو الحال مع الدروس الأخرى. أما y فهي كذلك قائمة بالتصنيفات المختلفة. لمعرفة معنى التصنيفات نستطيع طباعة target_names:"
   ]
  },
  {
   "cell_type": "code",
   "execution_count": 5,
   "metadata": {
    "colab": {},
    "colab_type": "code",
    "id": "j_mOkAH1EiP4",
    "outputId": "545f7d80-deca-458f-ed03-129b022c2aeb"
   },
   "outputs": [
    {
     "name": "stdout",
     "output_type": "stream",
     "text": [
      "0 \t->\t alt.atheism\n",
      "1 \t->\t comp.graphics\n",
      "2 \t->\t comp.os.ms-windows.misc\n",
      "3 \t->\t comp.sys.ibm.pc.hardware\n",
      "4 \t->\t comp.sys.mac.hardware\n",
      "5 \t->\t comp.windows.x\n",
      "6 \t->\t misc.forsale\n",
      "7 \t->\t rec.autos\n",
      "8 \t->\t rec.motorcycles\n",
      "9 \t->\t rec.sport.baseball\n",
      "10 \t->\t rec.sport.hockey\n",
      "11 \t->\t sci.crypt\n",
      "12 \t->\t sci.electronics\n",
      "13 \t->\t sci.med\n",
      "14 \t->\t sci.space\n",
      "15 \t->\t soc.religion.christian\n",
      "16 \t->\t talk.politics.guns\n",
      "17 \t->\t talk.politics.mideast\n",
      "18 \t->\t talk.politics.misc\n",
      "19 \t->\t talk.religion.misc\n"
     ]
    }
   ],
   "source": [
    "for i, k in enumerate(newsgroups_data['target_names']):\n",
    "    print(i, '\\t->\\t', k)"
   ]
  },
  {
   "cell_type": "markdown",
   "metadata": {
    "colab_type": "text",
    "id": "N817xW7eEiQC"
   },
   "source": [
    "<div style=\"direction:rtl; text-align:right\">\n",
    "وهنا سنقوم بطباعة أول قيمة من X"
   ]
  },
  {
   "cell_type": "code",
   "execution_count": 6,
   "metadata": {
    "colab": {},
    "colab_type": "code",
    "id": "vSOX9pG6EiQE",
    "outputId": "a19efd5b-7857-4d23-ea28-6b7c634b823b"
   },
   "outputs": [
    {
     "name": "stdout",
     "output_type": "stream",
     "text": [
      "From: lerxst@wam.umd.edu (where's my thing)\n",
      "Subject: WHAT car is this!?\n",
      "Nntp-Posting-Host: rac3.wam.umd.edu\n",
      "Organization: University of Maryland, College Park\n",
      "Lines: 15\n",
      "\n",
      " I was wondering if anyone out there could enlighten me on this car I saw\n",
      "the other day. It was a 2-door sports car, looked to be from the late 60s/\n",
      "early 70s. It was called a Bricklin. The doors were really small. In addition,\n",
      "the front bumper was separate from the rest of the body. This is \n",
      "all I know. If anyone can tellme a model name, engine specs, years\n",
      "of production, where this car is made, history, or whatever info you\n",
      "have on this funky looking car, please e-mail.\n",
      "\n",
      "Thanks,\n",
      "- IL\n",
      "   ---- brought to you by your neighborhood Lerxst ----\n",
      "\n",
      "\n",
      "\n",
      "\n",
      "\n"
     ]
    }
   ],
   "source": [
    "print(X[0])"
   ]
  },
  {
   "cell_type": "markdown",
   "metadata": {
    "colab_type": "text",
    "id": "ZYsWJy4hEiQI"
   },
   "source": [
    "<div style=\"direction:rtl; text-align:right\">\n",
    "لنقم أولاً بعرض كم عدد النصوص لكل صنف ؟ قد تحتاج لاستخدام باندا للقيام بالمهمة!"
   ]
  },
  {
   "cell_type": "code",
   "execution_count": 7,
   "metadata": {},
   "outputs": [
    {
     "data": {
      "text/plain": [
       "array([7, 4, 4, ..., 3, 1, 8])"
      ]
     },
     "execution_count": 7,
     "metadata": {},
     "output_type": "execute_result"
    }
   ],
   "source": [
    "y"
   ]
  },
  {
   "cell_type": "code",
   "execution_count": 8,
   "metadata": {},
   "outputs": [
    {
     "data": {
      "text/plain": [
       "0         7\n",
       "1         4\n",
       "2         4\n",
       "3         1\n",
       "4        14\n",
       "         ..\n",
       "11309    13\n",
       "11310     4\n",
       "11311     3\n",
       "11312     1\n",
       "11313     8\n",
       "Length: 11314, dtype: int64"
      ]
     },
     "execution_count": 8,
     "metadata": {},
     "output_type": "execute_result"
    }
   ],
   "source": [
    "pd.Series(y)"
   ]
  },
  {
   "cell_type": "code",
   "execution_count": 9,
   "metadata": {
    "colab": {},
    "colab_type": "code",
    "id": "rgM7kHnkEiQK",
    "outputId": "fd2d4922-62ea-40c3-c2b7-2834b8c449f3"
   },
   "outputs": [
    {
     "data": {
      "text/plain": [
       "10    600\n",
       "15    599\n",
       "8     598\n",
       "9     597\n",
       "11    595\n",
       "13    594\n",
       "7     594\n",
       "14    593\n",
       "5     593\n",
       "12    591\n",
       "2     591\n",
       "3     590\n",
       "6     585\n",
       "1     584\n",
       "4     578\n",
       "17    564\n",
       "16    546\n",
       "0     480\n",
       "18    465\n",
       "19    377\n",
       "dtype: int64"
      ]
     },
     "execution_count": 9,
     "metadata": {},
     "output_type": "execute_result"
    }
   ],
   "source": [
    "############################\n",
    "# عليك تعديل هذه الخانة قبل تسليم المشروع\n",
    "# YOU HAVE TO EDIT THIS CELLL\n",
    "############################\n",
    "pd.Series(y).value_counts()\n",
    "# YOUR CODE HERE"
   ]
  },
  {
   "cell_type": "markdown",
   "metadata": {
    "colab_type": "text",
    "id": "v0pMf1VLEiQO"
   },
   "source": [
    "<div style=\"direction:rtl; text-align:right\">\n",
    "نرى أن لدينا توازن في توزيع النصوص بين الأصناف المختلفة"
   ]
  },
  {
   "cell_type": "markdown",
   "metadata": {
    "colab_type": "text",
    "id": "KRx-wLPnEiQQ"
   },
   "source": [
    "<div style=\"direction:rtl; text-align:right\">\n",
    "\n",
    "# تجهيز البيانات"
   ]
  },
  {
   "cell_type": "markdown",
   "metadata": {
    "colab_type": "text",
    "id": "WjUYplPnEiQR"
   },
   "source": [
    "<div style=\"direction:rtl; text-align:right\">\n",
    "ماذا نعمل عادة مع البيانات النصية؟ في هذه الحالة، سيكون أمامنا الكثير لنعمله حتى نقوم بتنظيف هذه البيانات وتهيئتها للتحليل. لذلك سنقوم بكتابة بعض الأوامر التي تساعدنا على ذلك."
   ]
  },
  {
   "cell_type": "markdown",
   "metadata": {
    "colab_type": "text",
    "id": "Sbl2dd7KEiQT"
   },
   "source": [
    "<div style=\"direction:rtl; text-align:right\">\n",
    "المهمة الأولى: تنظيف النص"
   ]
  },
  {
   "cell_type": "code",
   "execution_count": 10,
   "metadata": {
    "colab": {},
    "colab_type": "code",
    "id": "4JHzDJ6sEiQU"
   },
   "outputs": [],
   "source": [
    "import re"
   ]
  },
  {
   "cell_type": "code",
   "execution_count": 11,
   "metadata": {
    "colab": {},
    "colab_type": "code",
    "id": "iOfAkPvAEiQY"
   },
   "outputs": [],
   "source": [
    "############################\n",
    "# عليك تعديل هذه الخانة قبل تسليم المشروع\n",
    "# YOU HAVE TO EDIT THIS CELLL\n",
    "############################\n",
    "\n",
    "\n",
    "# HINT: figure out how to: delete special charachters, delete numbers, delete email addresses\n",
    "#          if you dont know, use google!\n",
    "\n",
    "#1-كل الحروف الكبتل تصير سمول \n",
    "#٢- حذف الاميلات \n",
    "#٣- حذف الروابط \n",
    "#٤- حذف الارقام والرموز \n",
    "#٥- المسافات \n",
    "\n",
    "def clean_text(text):\n",
    "    email = re.compile(r\"\\S*@\\S*\\s?\")\n",
    "    text = email.sub(' ', text) #delete email addresses\n",
    "    text = re.sub('[^ ]+\\.[^ ]+',' ',text) #delete links\n",
    "    text = re.sub('[^A-Za-z0-9\\']', ' ', text)\n",
    "    text = text.lower() #1-كل الحروف الكبتل تصير سمول \n",
    "    text=re.sub(r'[0-9]', ' ', text) #delete numbers\n",
    "    text = re.sub(r\"\\s\\s+\",' ',text) #for remove extra spaces\n",
    "    text = text.replace('\\n', ' ').replace('\\r', ' ') #delete new line\n",
    "    #numbers = re.compile('[@!#$%^&*()<>?/\\|}{~:]') \n",
    "    #text = numbers.sub(' ', text) #delete special charachters\n",
    "    return text"
   ]
  },
  {
   "cell_type": "markdown",
   "metadata": {
    "colab_type": "text",
    "id": "GgfsB55cEiQd"
   },
   "source": [
    "<div style=\"direction:rtl; text-align:right\">\n",
    "حسنا، سنقوم الآن برؤية أثر هذه التعديلات على العنصر الأول في قائمة النصوص"
   ]
  },
  {
   "cell_type": "code",
   "execution_count": 12,
   "metadata": {},
   "outputs": [
    {
     "name": "stdout",
     "output_type": "stream",
     "text": [
      "from grubb subject re ide vs scsi organization new mexico state university las cruces nm lines distribution world nntp posting host writes in article grubb says in pc magazine april although scsi is twice as fasst as esdi faster than ide and support up to devices its acceptance long been stalled by incompatability problems and installation i love it when magazine writers make stupid statements like that re performance where do they get those numbers i'll list the actual performance ranges which should convince anyone that such a statement is absurd scsi i ranges from mb s scsi ii ranges from mb s ide ranges from esdi is always although there are some non standard versions all this shows is that you don't know much about with a scsi controler chip range is indeed mb s and that is all you have right about scsi scsi with a scsi controller chip mb s with mb s burst bit note the increase in speed the mac quadra uses this version of scsi so it does exist some pc use this set up bit scsi mode mb s with mb s burst scsi bit wide or fast mode mb s with mb s burst scsi bit wide and fast mb s with mb s burst by your own data the although scsi is twice as fast as esdi is correct with a scsi controller chip scsi can reach mb s which is indeed faster than ide of is all these scsi facts have been posted to this newsgroup in my mac ibm info sheet available by ftp on in the info mac report as mac ibm compare version it should be but may still be there part of this problem is both mac and ibm pc are inconsiant about what scsi is which though it is well documented that the quadra has a scsi chip an apple salesperson said it uses a fast scsi chip not at a mb s mb s burst it does not scsi is mb s maximum synchronous and quadra uses ansynchronous scsi which is slower it seems that mac and ibm see scsi interface and think 'scsi ' when it maybe a scsi interface driven in the machine by a scsi controller chip in bit mode which is much faster then true scsi can slam an article because you don't understand what is going reference for the quadra's scsi controller chip is digital review oct v n \n"
     ]
    }
   ],
   "source": [
    "print(clean_text(X[7]))"
   ]
  },
  {
   "cell_type": "code",
   "execution_count": 13,
   "metadata": {},
   "outputs": [
    {
     "data": {
      "text/plain": [
       "'From: bgrubb@dante.nmsu.edu (GRUBB)\\nSubject: Re: IDE vs SCSI\\nOrganization: New Mexico State University, Las Cruces, NM\\nLines: 44\\nDistribution: world\\nNNTP-Posting-Host: dante.nmsu.edu\\n\\nDXB132@psuvm.psu.edu writes:\\n>In article <1qlbrlINN7rk@dns1.NMSU.Edu>, bgrubb@dante.nmsu.edu (GRUBB) says:\\n>>In PC Magazine April 27, 1993:29 \"Although SCSI is twice as fasst as ESDI,\\n>>20% faster than IDE, and support up to 7 devices its acceptance ...has   \\n>>long been stalled by incompatability problems and installation headaches.\"\\n                                                                      \\n>I love it when magazine writers make stupid statements like that re:      \\n>performance. Where do they get those numbers? I\\'ll list the actual\\n>performance ranges, which should convince anyone that such a               \\n>statement is absurd:                                                     \\n>SCSI-I ranges from 0-5MB/s.                                                \\n>SCSI-II ranges from 0-40MB/s.            \\n>IDE ranges from 0-8.3MB/s.                          \\n>ESDI is always 1.25MB/s (although there are some non-standard versions)\\nALL this shows is that YOU don\\'t know much about SCSI.\\n\\nSCSI-1 {with a SCSI-1 controler chip} range is indeed 0-5MB/s\\nand that is ALL you have right about SCSI\\nSCSI-1 {With a SCSI-2 controller chip}: 4-6MB/s with 10MB/s burst {8-bit}\\n Note the INCREASE in SPEED, the Mac Quadra uses this version of SCSI-1\\n so it DOES exist. Some PC use this set up too.\\nSCSI-2 {8-bit/SCSI-1 mode}:          4-6MB/s with 10MB/s burst\\nSCSI-2 {16-bit/wide or fast mode}:  8-12MB/s with 20MB/s burst\\nSCSI-2 {32-bit/wide AND fast}:     15-20MB/s with 40MB/s burst\\n \\nBy your OWN data the \"Although SCSI is twice as fast as ESDI\" is correct\\nWith a SCSI-2 controller chip SCSI-1 can reach 10MB/s which is indeed\\n\"20% faster than IDE\" {120% of 8.3 is 9.96}. ALL these SCSI facts have been\\nposted to this newsgroup in my Mac & IBM info sheet {available by FTP on \\nsumex-aim.stanford.edu (36.44.0.6) in the info-mac/report as \\nmac-ibm-compare[version #].txt (It should be 173 but 161 may still be there)}\\n\\nPart of this problem is both Mac and IBM PC are inconsiant about what SCSI\\nis which.  Though it is WELL documented that the Quadra has a SCSI-2 chip\\nan Apple salesperson said \"it uses a fast SCSI-1 chip\" {Not at a 6MB/s,\\n10MB/s burst it does not. SCSI-1 is 5MB/s maximum synchronous and Quadra\\nuses ANsynchronous SCSI which is SLOWER}  It seems that Mac and IBM see\\nSCSI-1 interface and think \\'SCSI-1\\' when it maybe a SCSI-1 interface driven\\nin the machine by a SCSi-2 controller chip in 8-bit mode {Which is MUCH\\nFASTER then true SCSI-1 can go}.\\n\\nDon\\'t slam an article because you don\\'t understand what is going on.\\nOne reference for the Quadra\\'s SCSI-2 controller chip is \\n(Digital Review, Oct 21, 1991 v8 n33 p8(1)).\\n'"
      ]
     },
     "execution_count": 13,
     "metadata": {},
     "output_type": "execute_result"
    }
   ],
   "source": [
    "(X[7])"
   ]
  },
  {
   "cell_type": "markdown",
   "metadata": {
    "colab_type": "text",
    "id": "NYPs83ZrEiQq"
   },
   "source": [
    "<div style=\"direction:rtl; text-align:right\">\n",
    "سنقوم الآن بتنفيذ ذات الأمر على باقي النصوص في X:"
   ]
  },
  {
   "cell_type": "code",
   "execution_count": 14,
   "metadata": {
    "colab": {},
    "colab_type": "code",
    "id": "hfatLZwnEiQs"
   },
   "outputs": [],
   "source": [
    "############################\n",
    "# عليك تعديل هذه الخانة قبل تسليم المشروع\n",
    "# YOU HAVE TO EDIT THIS CELLL\n",
    "############################\n",
    "for i in range(len(X)):\n",
    "    X[i] =clean_text(X[i])\n",
    "# YOUR CODE HERE"
   ]
  },
  {
   "cell_type": "code",
   "execution_count": 15,
   "metadata": {},
   "outputs": [
    {
     "data": {
      "text/plain": [
       "\"from thomas e willis subject pb purdue university engineering computer network distribution usa lines well folks my mac plus finally gave up the ghost this weekend after starting life as a k way back in sooo i'm in the market for a new machine a bit sooner than i intended to looking into picking up a powerbook or maybe and have a bunch of questions that hopefully somebody can answer does anybody know any dirt on when the next round of powerbook introductions are expected i'd heard the c was supposed to make an appearence this summer but haven't heard anymore on it and since i don't have access to macleak i was wondering if anybody out there had more has anybody heard rumors about price drops to the powerbook line like the ones the duo's just went through recently what's the impression of the display on the i could probably swing a if i got the mb disk rather than the but i don't really have a feel for how much better the display is yea it looks great in the store but is that all wow or is it really that good could i solicit some opinions of people who use the and day to day on if its worth taking the disk size and money hit to get the active display i realize this is a real subjective question but i've only played around with the machines in a computer store breifly and figured the opinions of somebody who actually uses the machine daily might prove how well does hellcats perform thanks a bunch in advance for any info if you could email i'll post a summary news reading time is at a premium with finals just around tom willis purdue electrical engineering convictions are more dangerous enemies of truth than f \""
      ]
     },
     "execution_count": 15,
     "metadata": {},
     "output_type": "execute_result"
    }
   ],
   "source": [
    "X[2]"
   ]
  },
  {
   "cell_type": "markdown",
   "metadata": {
    "colab_type": "text",
    "id": "O2BD_ZfeEiQx"
   },
   "source": [
    "<div style=\"direction:rtl; text-align:right\">\n",
    "الآن سنقوم باستخدام Td-IDF لتحويل الكلمات إلى مصفوفة ضخمة حتى نستخدمها في النمذجة. في الخانة التالية، ستقوم باستخدام TfidfVectorizer لتحويل النص."
   ]
  },
  {
   "cell_type": "code",
   "execution_count": 16,
   "metadata": {
    "colab": {},
    "colab_type": "code",
    "id": "P_XiPxo0EiQz"
   },
   "outputs": [],
   "source": [
    "############################\n",
    "# عليك تعديل هذه الخانة قبل تسليم المشروع\n",
    "# YOU HAVE TO EDIT THIS CELLL\n",
    "############################\n",
    "from sklearn.feature_extraction.text import TfidfVectorizer\n",
    "\n",
    "vec = TfidfVectorizer()\n",
    "\n",
    "trn_term_doc = vec.fit_transform(X)"
   ]
  },
  {
   "cell_type": "code",
   "execution_count": 17,
   "metadata": {
    "colab": {},
    "colab_type": "code",
    "id": "_4U28AnZEiQ3",
    "outputId": "873154cc-4b3a-469e-b6b2-43878c3af3e6"
   },
   "outputs": [
    {
     "data": {
      "text/plain": [
       "array(<11314x69020 sparse matrix of type '<class 'numpy.float64'>'\n",
       "\twith 1502320 stored elements in Compressed Sparse Row format>,\n",
       "      dtype=object)"
      ]
     },
     "execution_count": 17,
     "metadata": {},
     "output_type": "execute_result"
    }
   ],
   "source": [
    "np.array(trn_term_doc)"
   ]
  },
  {
   "cell_type": "markdown",
   "metadata": {
    "colab_type": "text",
    "id": "b6ECk7dREiQ8"
   },
   "source": [
    "<div style=\"direction:rtl; text-align:right\">\n",
    "\n",
    "# نمذجة البيانات"
   ]
  },
  {
   "cell_type": "markdown",
   "metadata": {
    "colab_type": "text",
    "id": "FANs1n7xEiQ9"
   },
   "source": [
    "<div style=\"direction:rtl; text-align:right\">\n",
    "سنقوم الآن بنمذجة البيانات. لنبدأ بالانحدار اللوجستي. في الخانة أدناه، قم باستيراد كلاً من مكتبة الانحدار اللوجستي، وأمر cross_val_score ثم استخدمهم في تدريب النموذج والتحقق من صحته."
   ]
  },
  {
   "cell_type": "code",
   "execution_count": 18,
   "metadata": {
    "colab": {},
    "colab_type": "code",
    "id": "uc6MkCZvEiQ-",
    "scrolled": true
   },
   "outputs": [],
   "source": [
    "############################\n",
    "# عليك تعديل هذه الخانة قبل تسليم المشروع\n",
    "# YOU HAVE TO EDIT THIS CELLL\n",
    "############################\n",
    "\n",
    "# HINT: You should use `train_data` as your input\n",
    "from sklearn.model_selection import cross_val_score\n",
    "from sklearn.linear_model import LogisticRegression\n",
    "    \n",
    "model1 = LogisticRegression()\n",
    "\n",
    "scores = cross_val_score(model1 ,trn_term_doc ,y , cv=5)"
   ]
  },
  {
   "cell_type": "code",
   "execution_count": 19,
   "metadata": {
    "colab": {},
    "colab_type": "code",
    "id": "mlKO_U3YEiRC"
   },
   "outputs": [],
   "source": [
    "avg_score = scores.mean()"
   ]
  },
  {
   "cell_type": "code",
   "execution_count": 20,
   "metadata": {
    "colab": {},
    "colab_type": "code",
    "id": "XeEslIT8EiRi",
    "outputId": "d23a74cf-232c-4e4f-aff5-f423781baccd"
   },
   "outputs": [
    {
     "name": "stdout",
     "output_type": "stream",
     "text": [
      "Average accuracy is:  0.8839492266511634\n"
     ]
    }
   ],
   "source": [
    "print('Average accuracy is: ', avg_score)"
   ]
  },
  {
   "cell_type": "markdown",
   "metadata": {
    "colab_type": "text",
    "id": "eiypo5UVEiR8"
   },
   "source": [
    "<div style=\"direction:rtl; text-align:right\">\n",
    "لا تحتاج في هذا المشروع إلى تسليم أي ملف إلى كاقل. ولكن تأكد من صحة الإجابات ثم قم بتسليم المشروع في الموقع."
   ]
  },
  {
   "cell_type": "code",
   "execution_count": null,
   "metadata": {},
   "outputs": [],
   "source": []
  }
 ],
 "metadata": {
  "colab": {
   "name": "Project 6.ipynb",
   "provenance": []
  },
  "kernelspec": {
   "display_name": "Python 3",
   "language": "python",
   "name": "python3"
  },
  "language_info": {
   "codemirror_mode": {
    "name": "ipython",
    "version": 3
   },
   "file_extension": ".py",
   "mimetype": "text/x-python",
   "name": "python",
   "nbconvert_exporter": "python",
   "pygments_lexer": "ipython3",
   "version": "3.8.3"
  }
 },
 "nbformat": 4,
 "nbformat_minor": 1
}
